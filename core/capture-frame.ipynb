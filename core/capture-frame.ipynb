{
 "cells": [
  {
   "cell_type": "code",
   "execution_count": 1,
   "id": "2cfe5edf",
   "metadata": {},
   "outputs": [],
   "source": [
    "import cv2\n",
    "from PIL import Image\n",
    "import imagehash\n",
    "from skimage.metrics import structural_similarity\n",
    "import numpy as np"
   ]
  },
  {
   "cell_type": "code",
   "execution_count": 2,
   "id": "30409cd8",
   "metadata": {},
   "outputs": [],
   "source": [
    "capture=cv2.VideoCapture(\"video/demo0.mp4\")"
   ]
  },
  {
   "cell_type": "code",
   "execution_count": 3,
   "id": "982e33ad",
   "metadata": {},
   "outputs": [],
   "source": [
    "def purge_duplicate(img0, img1, threshold, i=0):\n",
    "    sim, diff = structural_similarity(img0, img1, full=True)\n",
    "    if(sim < threshold):\n",
    "        return True\n",
    "    else:\n",
    "        return False"
   ]
  },
  {
   "cell_type": "code",
   "execution_count": 4,
   "id": "58d1f37d",
   "metadata": {},
   "outputs": [],
   "source": [
    "i=0\n",
    "lag,frame=capture.read()\n",
    "img0=frame\n",
    "img0_bw=cv2.cvtColor(frame, cv2.COLOR_BGR2GRAY)\n",
    "while(capture.isOpened()):\n",
    "    \n",
    "    img0=frame\n",
    "    img0_bw=cv2.cvtColor(frame, cv2.COLOR_BGR2GRAY)\n",
    "    \n",
    "    flag,frame=capture.read()\n",
    "    if(flag==False):\n",
    "        break\n",
    "        \n",
    "    img1=frame\n",
    "    img1_bw=cv2.cvtColor(frame, cv2.COLOR_BGR2GRAY)\n",
    "    \n",
    "    \n",
    "    if (purge_duplicate(img0_bw, img1_bw, 0.65, i) == True):\n",
    "        path='frame/'+str(i)+'.jpg'\n",
    "        cv2.imwrite(path,img0)\n",
    "        i+=1\n",
    "            "
   ]
  },
  {
   "cell_type": "code",
   "execution_count": 5,
   "id": "f76a5338",
   "metadata": {},
   "outputs": [
    {
     "ename": "error",
     "evalue": "OpenCV(4.5.4) /tmp/pip-req-build-9vck9bv0/opencv/modules/highgui/src/window.cpp:1268: error: (-2:Unspecified error) The function is not implemented. Rebuild the library with Windows, GTK+ 2.x or Cocoa support. If you are on Ubuntu or Debian, install libgtk2.0-dev and pkg-config, then re-run cmake or configure script in function 'cvDestroyAllWindows'\n",
     "output_type": "error",
     "traceback": [
      "\u001b[0;31m---------------------------------------------------------------------------\u001b[0m",
      "\u001b[0;31merror\u001b[0m                                     Traceback (most recent call last)",
      "\u001b[1;32m/home/xtanion/Programming/Python/CaptureLectures/capture-frame.ipynb Cell 5'\u001b[0m in \u001b[0;36m<module>\u001b[0;34m\u001b[0m\n\u001b[1;32m      <a href='vscode-notebook-cell:/home/xtanion/Programming/Python/CaptureLectures/capture-frame.ipynb#ch0000004?line=0'>1</a>\u001b[0m capture\u001b[39m.\u001b[39mrelease()\n\u001b[0;32m----> <a href='vscode-notebook-cell:/home/xtanion/Programming/Python/CaptureLectures/capture-frame.ipynb#ch0000004?line=1'>2</a>\u001b[0m cv2\u001b[39m.\u001b[39;49mdestroyAllWindows()\n",
      "\u001b[0;31merror\u001b[0m: OpenCV(4.5.4) /tmp/pip-req-build-9vck9bv0/opencv/modules/highgui/src/window.cpp:1268: error: (-2:Unspecified error) The function is not implemented. Rebuild the library with Windows, GTK+ 2.x or Cocoa support. If you are on Ubuntu or Debian, install libgtk2.0-dev and pkg-config, then re-run cmake or configure script in function 'cvDestroyAllWindows'\n"
     ]
    }
   ],
   "source": [
    "capture.release()\n",
    "cv2.destroyAllWindows()"
   ]
  },
  {
   "cell_type": "code",
   "execution_count": null,
   "id": "705615b4",
   "metadata": {},
   "outputs": [],
   "source": []
  }
 ],
 "metadata": {
  "kernelspec": {
   "display_name": "Python 3 (ipykernel)",
   "language": "python",
   "name": "python3"
  },
  "language_info": {
   "codemirror_mode": {
    "name": "ipython",
    "version": 3
   },
   "file_extension": ".py",
   "mimetype": "text/x-python",
   "name": "python",
   "nbconvert_exporter": "python",
   "pygments_lexer": "ipython3",
   "version": "3.9.7"
  }
 },
 "nbformat": 4,
 "nbformat_minor": 5
}
